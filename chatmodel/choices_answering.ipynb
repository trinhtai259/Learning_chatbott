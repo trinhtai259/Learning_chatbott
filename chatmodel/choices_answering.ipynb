{
 "cells": [
  {
   "cell_type": "code",
   "execution_count": 1,
   "metadata": {},
   "outputs": [
    {
     "name": "stderr",
     "output_type": "stream",
     "text": [
      "c:\\Users\\ASUS\\AppData\\Local\\Programs\\Python\\Python311\\Lib\\site-packages\\sentence_transformers\\cross_encoder\\CrossEncoder.py:13: TqdmWarning: IProgress not found. Please update jupyter and ipywidgets. See https://ipywidgets.readthedocs.io/en/stable/user_install.html\n",
      "  from tqdm.autonotebook import tqdm, trange\n"
     ]
    },
    {
     "name": "stdout",
     "output_type": "stream",
     "text": [
      "WARNING:tensorflow:From c:\\Users\\ASUS\\AppData\\Local\\Programs\\Python\\Python311\\Lib\\site-packages\\tf_keras\\src\\losses.py:2976: The name tf.losses.sparse_softmax_cross_entropy is deprecated. Please use tf.compat.v1.losses.sparse_softmax_cross_entropy instead.\n",
      "\n"
     ]
    }
   ],
   "source": [
    "from langchain_groq import ChatGroq\n",
    "from sentence_transformers import SentenceTransformer\n",
    "import os\n",
    "import getpass\n",
    "import weaviate\n",
    "from langchain.schema import Document\n",
    "from langchain_community.tools.tavily_search import TavilySearchResults\n",
    "from langchain_core.messages import HumanMessage, SystemMessage, RemoveMessage\n",
    "import json\n",
    "import operator\n",
    "from typing import List, Annotated\n",
    "from langgraph.graph import END\n",
    "from langgraph.graph import StateGraph\n",
    "from langgraph.checkpoint.memory import MemorySaver\n",
    "from langgraph.graph import MessagesState"
   ]
  },
  {
   "cell_type": "code",
   "execution_count": null,
   "metadata": {},
   "outputs": [],
   "source": [
    "# Kết nối các API\n",
    "def _set_env(var: str):\n",
    "    if not os.environ.get(var):\n",
    "        os.environ[var] = getpass.getpass(f\"{var}: \")\n",
    "        return os.environ[var]\n",
    "    \n",
    "_set_env(\"LANGCHAIN_API_KEY\")\n",
    "_set_env(\"TAVILY_API_KEY\")\n",
    "_set_env(\"GROQ_API_KEY\")\n",
    "WEAVIATE_URL = _set_env(\"WEAVIATE_URL\")\n",
    "WEAVIATE_API_KEY = _set_env(\"WEAVIATE_API_KEY\")\n",
    "# Kết nối langchain và websearch\n",
    "os.environ[\"TOKENIZERS_PARALLELISM\"] = \"true\"\n",
    "os.environ[\"LANGCHAIN_TRACING_V2\"] = \"true\"\n",
    "os.environ[\"LANGCHAIN_PROJECT\"] = \"QA-answering\"\n",
    "os.environ[\"LANGSMITH_ENDPOINT\"] = \"https://api.smith.langchain.com\"\n",
    "\n",
    "# Kết nối CSDL vector\n",
    "\n",
    "client = weaviate.Client(url=WEAVIATE_URL                                                                                                                                                                                                                                                                                                                                                                                                                                                                                                                                                                                                                                                                                                                                                                                                                                                                                                                                                                                ,\n",
    "                        auth_client_secret=weaviate.auth.AuthApiKey(api_key=WEAVIATE_API_KEY))"
   ]
  },
  {
   "cell_type": "code",
   "execution_count": 10,
   "metadata": {},
   "outputs": [
    {
     "data": {
      "text/plain": [
       "'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'"
      ]
     },
     "execution_count": 10,
     "metadata": {},
     "output_type": "execute_result"
    }
   ],
   "source": [
    "def _set_env(var: str):\n",
    "    if not os.environ.get(var):\n",
    "        os.environ[var] = getpass.getpass(f\"{var}: \")\n",
    "        return os.environ[var]\n",
    "_set_env(\"TAVILY_API_KEY\")"
   ]
  },
  {
   "cell_type": "code",
   "execution_count": null,
   "metadata": {},
   "outputs": [],
   "source": [
    "embedding_model = SentenceTransformer('dangvantuan/vietnamese-embedding', device='cpu')"
   ]
  },
  {
   "cell_type": "code",
   "execution_count": null,
   "metadata": {},
   "outputs": [],
   "source": [
    "llm = ChatGroq(\n",
    "    model=\"llama-3.3-70b-versatile\",\n",
    "    temperature=0,\n",
    "    max_tokens=1024,\n",
    "    timeout=None,\n",
    "    max_retries=2)\n",
    "\n",
    "llm_json_mode = ChatGroq(\n",
    "    model=\"llama-3.3-70b-versatile\",\n",
    "    temperature=0,\n",
    "    max_tokens=1024,\n",
    "    timeout=None,\n",
    "    response_format={\"type\": \"json_object\"})"
   ]
  },
  {
   "cell_type": "code",
   "execution_count": 2,
   "metadata": {},
   "outputs": [],
   "source": [
    "rag_prompt = \"\"\"Bạn là một cố vấn học tập cho các nhiệm vụ trả lời câu hỏi của sinh viên đại học.\n",
    "Sau đây là ngữ cảnh để sử dụng để trả lời câu hỏi:\n",
    "{context}\n",
    "Hãy suy nghĩ cẩn thận về ngữ cảnh trên.\n",
    "Bây giờ, hãy xem lại câu hỏi của người dùng:\n",
    "{question}\n",
    "Hãy suy nghĩ kỹ sau đó mới cung cấp câu trả lời cho câu hỏi này chỉ bằng ngữ cảnh trên chỉ bằng các chữ A,B,C,D là phương án và có giải thích thật ngắn gọn, không lặp lại. Nếu không biết đáp án chỉ cần ghi \"Không biết\".\n",
    "Trả lời:\"\"\"\n",
    "\n",
    "router_instruction = \"\"\"Bạn là chuyên gia trong việc định tuyến câu hỏi của người dùng đến vectorstore hoặc tìm kiếm trên web.\n",
    "Vectorstore chứa các tài liệu liên quan đến quy định và học tập của Đại học Bách khoa Hà Nội.\n",
    "Sử dụng vectorstore cho các câu hỏi về các chủ đề này. Đối với tất cả các chủ đề khác, và đặc biệt là các sự kiện hiện tại, hãy sử dụng web-search.\n",
    "Trả về JSON với khóa duy nhất, nguồn dữ liệu, tức là 'websearch' hoặc 'vectorstore' tùy thuộc vào câu hỏi.\"\"\"\n",
    "\n",
    "doc_grader_instructions = \"\"\"Bạn là người chấm điểm đánh giá mức độ liên quan của một tài liệu đã truy xuất đến câu hỏi của người dùng.\n",
    "Nếu tài liệu chứa từ khóa hoặc ý nghĩa ngữ nghĩa liên quan đến câu hỏi, hãy chấm điểm là có liên quan.\"\"\"\n",
    "\n",
    "# Prompt chấm điểm\n",
    "doc_grader_prompt = \"\"\"Đây là tài liệu đã truy xuất: \\n\\n {document} \\n\\n Đây là câu hỏi của người dùng: \\n\\n {question}.\n",
    "Điều này đánh giá cẩn thận và khách quan xem tài liệu có chứa ít nhất một số thông tin có liên quan đến câu hỏi hay không.\n",
    "Trả về JSON với khóa đơn, binary_score, tức là đánh giá 'yes' hoặc 'no' để chỉ ra liệu tài liệu có chứa ít nhất một số thông tin có liên quan đến câu hỏi hay không.\"\"\"\n",
    "\n",
    "hallucination_grader_instructions = \"\"\"\n",
    "Bạn là giáo viên chấm bài kiểm tra.\n",
    "Bạn sẽ được cung cấp SỰ THẬT và CÂU TRẢ LỜI CỦA HỌC SINH.\n",
    "Sau đây là tiêu chí chấm điểm cần tuân theo:\n",
    "\n",
    "(1) Đảm bảo CÂU TRẢ LỜI CỦA HỌC SINH dựa trên SỰ THẬT.\n",
    "(2) Đảm bảo CÂU TRẢ LỜI CỦA HỌC SINH không chứa thông tin \"ảo giác\" nằm ngoài phạm vi của SỰ THẬT.\n",
    "\n",
    "Điểm:\n",
    "Điểm 'yes' có nghĩa là câu trả lời của học sinh đáp ứng tất cả các tiêu chí. Đây là điểm cao nhất (tốt nhất).\n",
    "Điểm 'no' có nghĩa là câu trả lời của học sinh không đáp ứng tất cả các tiêu chí. Đây là điểm thấp nhất có thể mà bạn có thể cho.\n",
    "Giải thích lý luận của bạn theo từng bước để đảm bảo lý luận và kết luận của bạn là đúng.\n",
    "Tránh chỉ nêu câu trả lời đúng ngay từ đầu.\"\"\"\n",
    "\n",
    "hallucination_grader_prompt = \"\"\"SỰ THẬT: \\n\\n {documents} \\n\\n CÂU TRẢ LỜI CỦA HỌC SINH: {generation}.\n",
    "\n",
    "Trả về JSON với hai khóa, binary_score là điểm 'yes' hoặc 'no' để chỉ ra liệu CÂU TRẢ LỜI CỦA HỌC SINH có dựa trên SỰ THẬT hay không. Và một khóa, giải thích, chứa giải thích về điểm số.\"\"\"\n",
    "\n",
    "answer_grader_instructions = \"\"\"Bạn là giáo viên chấm bài kiểm tra.\n",
    "\n",
    "Bạn sẽ được đưa ra một CÂU HỎI và một CÂU TRẢ LỜI CỦA HỌC SINH.\n",
    "Sau đây là tiêu chí chấm điểm cần tuân theo:\n",
    "\n",
    "(1) CÂU TRẢ LỜI CỦA HỌC SINH giúp trả lời CÂU HỎI\n",
    "\n",
    "Điểm:\n",
    "Điểm 'yes' nghĩa là câu trả lời của học sinh đáp ứng tất cả các tiêu chí. Đây là điểm cao nhất (tốt nhất).\n",
    "Học sinh có thể nhận được điểm có nếu câu trả lời có chứa thông tin bổ sung không được yêu cầu rõ ràng trong câu hỏi.\n",
    "Điểm 'no' có nghĩa là câu trả lời của học sinh không đáp ứng tất cả các tiêu chí. Đây là điểm thấp nhất có thể mà bạn có thể cho.\n",
    "Giải thích lý do của bạn theo từng bước để đảm bảo lý do và kết luận của bạn là đúng.\n",
    "Tránh chỉ nêu câu trả lời đúng ngay từ đầu.\"\"\"\n",
    "\n",
    "answer_grader_prompt = \"\"\"QUESTION: \\n\\n {question} \\n\\n STUDENT ANSWER: {generation}.\n",
    "Trả về JSON với hai khóa, binary_score là điểm 'yes' hoặc 'no' để chỉ ra liệu STUDENT ANSWER có đáp ứng tiêu chí hay không. \n",
    "Và một khóa, giải thích, chứa giải thích về điểm số.\"\"\""
   ]
  },
  {
   "cell_type": "code",
   "execution_count": 3,
   "metadata": {},
   "outputs": [],
   "source": [
    "# Tìm kiếm tài liệu bằng Weaviate\n",
    "def search(query,k):\n",
    "  query_embedding = embedding_model.encode(query)\n",
    "  result =(\n",
    "    client.query\n",
    "    .get(\"Document\", [\"title\",\"content\"])\n",
    "    .with_hybrid(\n",
    "        query=query,\n",
    "        vector=query_embedding\n",
    "    )\n",
    "    .with_limit(k)\n",
    "    .do()\n",
    ")\n",
    "  docs=[]\n",
    "  \n",
    "  for content in result[\"data\"][\"Get\"][\"Document\"]:\n",
    "    docs.append(Document(page_content= content['content']))\n",
    "  return docs"
   ]
  },
  {
   "cell_type": "code",
   "execution_count": 5,
   "metadata": {},
   "outputs": [],
   "source": [
    "from IPython.display import Image, display\n",
    "from typing_extensions import TypedDict\n",
    "\n",
    "class chat_state(TypedDict):\n",
    "    question: str  \n",
    "    generation: str  \n",
    "    web_search: str  \n",
    "    max_retries: int  \n",
    "    answers: int  \n",
    "    loop_step: Annotated[int, operator.add]\n",
    "    documents: List[str]"
   ]
  },
  {
   "cell_type": "code",
   "execution_count": 6,
   "metadata": {},
   "outputs": [],
   "source": [
    "def format_docs(docs):\n",
    "    return \"\\n\\n\".join(doc.page_content for doc in docs)"
   ]
  },
  {
   "cell_type": "code",
   "execution_count": 11,
   "metadata": {},
   "outputs": [],
   "source": [
    "web_search_tool = TavilySearchResults(k=3)\n",
    "def format_docs(docs):\n",
    "    return \"\\n\\n\".join(doc.page_content for doc in docs)\n",
    "\n",
    "\n",
    "### Nodes\n",
    "def retrieve(state):\n",
    "\n",
    "    print(\"---RETRIEVE---\")\n",
    "    question = state[\"question\"]\n",
    "\n",
    "    # Write retrieved documents to documents key in state\n",
    "    documents = search(question)\n",
    "    return {\"documents\": documents}\n",
    "\n",
    "#Generate\n",
    "def generate(state):\n",
    "\n",
    "    print(\"---GENERATE---\")\n",
    "    question = state[\"question\"]\n",
    "    documents = state[\"documents\"]\n",
    "    loop_step = state.get(\"loop_step\", 0)\n",
    "\n",
    "    # RAG generation\n",
    "    docs_txt = format_docs(documents)\n",
    "    rag_prompt_formatted = rag_prompt.format(context=docs_txt, question=question)\n",
    "    generation = llm.invoke([HumanMessage(content=rag_prompt_formatted)])\n",
    "    return {\"generation\": generation, \"loop_step\": loop_step + 1}\n",
    "\n",
    "\n",
    "def grade_documents(state):\n",
    "\n",
    "    print(\"---CHECK DOCUMENT RELEVANCE TO QUESTION---\")\n",
    "    question = state[\"question\"]\n",
    "    documents = state[\"documents\"]\n",
    "\n",
    "    # Score each doc\n",
    "    filtered_docs = []\n",
    "    web_search = \"No\"\n",
    "    for d in documents:\n",
    "        doc_grader_prompt_formatted = doc_grader_prompt.format(\n",
    "            document=d.page_content, question=question\n",
    "        )\n",
    "        result = llm_json_mode.invoke(\n",
    "            [SystemMessage(content=doc_grader_instructions)]\n",
    "            + [HumanMessage(content=doc_grader_prompt_formatted)]\n",
    "        )\n",
    "        grade = json.loads(result.content)[\"binary_score\"]\n",
    "        # Document relevant\n",
    "        if grade.lower() == \"yes\":\n",
    "            print(\"---GRADE: DOCUMENT RELEVANT---\")\n",
    "            filtered_docs.append(d)\n",
    "        # Document not relevant\n",
    "        else:\n",
    "            print(\"---GRADE: DOCUMENT NOT RELEVANT---\")\n",
    "            web_search = \"Yes\"\n",
    "            continue\n",
    "    return {\"documents\": filtered_docs, \"web_search\": web_search}\n",
    "\n",
    "\n",
    "def web_search(state):\n",
    "    print(\"---WEB SEARCH---\")\n",
    "    question = state[\"question\"]\n",
    "    documents = state.get(\"documents\", [])\n",
    "\n",
    "    # Web search\n",
    "    docs = web_search_tool.invoke({\"query\": question})\n",
    "    web_results = \"\\n\".join([d[\"content\"] for d in docs])\n",
    "    web_results = Document(page_content=web_results)\n",
    "    documents.append(web_results)\n",
    "    return {\"documents\": documents}\n",
    "\n",
    "def route_question(state):\n",
    "    print(\"---ROUTE QUESTION---\")\n",
    "    route_question = llm_json_mode.invoke(\n",
    "        [SystemMessage(content=router_instruction)]\n",
    "        + [HumanMessage(content=state[\"question\"])]\n",
    "    )\n",
    "    source = json.loads(route_question.content)[\"datasource\"]\n",
    "    if source == \"websearch\":\n",
    "        print(\"---ROUTE QUESTION TO WEB SEARCH---\")\n",
    "        return \"websearch\"\n",
    "    elif source == \"vectorstore\":\n",
    "        print(\"---ROUTE QUESTION TO RAG---\")\n",
    "        return \"vectorstore\"\n",
    "\n",
    "\n",
    "def decide_to_generate(state):\n",
    "    print(\"---ASSESS GRADED DOCUMENTS---\")\n",
    "    question = state[\"question\"]\n",
    "    web_search = state[\"web_search\"]\n",
    "    filtered_documents = state[\"documents\"]\n",
    "\n",
    "    if web_search == \"Yes\":\n",
    "        print(\n",
    "            \"---DECISION: NOT ALL DOCUMENTS ARE RELEVANT TO QUESTION, INCLUDE WEB SEARCH---\"\n",
    "        )\n",
    "        return \"websearch\"\n",
    "    else:\n",
    "        print(\"---DECISION: GENERATE---\")\n",
    "        return \"generate\""
   ]
  },
  {
   "cell_type": "code",
   "execution_count": 15,
   "metadata": {},
   "outputs": [
    {
     "data": {
      "image/png": "[encoded data removed]",
      "text/plain": [
       "<IPython.core.display.Image object>"
      ]
     },
     "metadata": {},
     "output_type": "display_data"
    }
   ],
   "source": [
    "#Ghép các cấu phần\n",
    "\n",
    "workflow = StateGraph(chat_state)\n",
    "\n",
    "# Define the nodes\n",
    "workflow.add_node(\"websearch\", web_search)  # web search\n",
    "workflow.add_node(\"retrieve\", retrieve)  # retrieve\n",
    "workflow.add_node(\"grade_documents\", grade_documents)  # grade documents\n",
    "workflow.add_node(\"generate\", generate)  # generate\n",
    "\n",
    "# Build graph\n",
    "workflow.set_conditional_entry_point(\n",
    "    route_question,\n",
    "    {\n",
    "        \"websearch\": \"websearch\",\n",
    "        \"vectorstore\": \"retrieve\",\n",
    "    },\n",
    ")\n",
    "workflow.add_edge(\"websearch\", \"generate\")\n",
    "workflow.add_edge(\"retrieve\", \"grade_documents\")\n",
    "workflow.add_conditional_edges(\n",
    "    \"grade_documents\",\n",
    "    decide_to_generate,\n",
    "    {\n",
    "        \"websearch\": \"websearch\",\n",
    "        \"generate\": \"generate\",\n",
    "    },\n",
    ")\n",
    "workflow.add_edge(\n",
    "    \"generate\",END\n",
    ")\n",
    "\n",
    "# Compile\n",
    "graph = workflow.compile()\n",
    "display(Image(graph.get_graph().draw_mermaid_png()))"
   ]
  },
  {
   "cell_type": "code",
   "execution_count": null,
   "metadata": {},
   "outputs": [],
   "source": [
    "import pandas as pd\n",
    "faq = pd.read_excel(\"FAQ.xlsx\")\n",
    "faq"
   ]
  },
  {
   "cell_type": "code",
   "execution_count": null,
   "metadata": {},
   "outputs": [],
   "source": [
    "# Test on current events\n",
    "import time\n",
    "states_test = []\n",
    "i=0\n",
    "for question in FAQ:\n",
    "    if i == 2:\n",
    "      time.sleep(60)\n",
    "      i = 0\n",
    "    states_test.append([])\n",
    "    inputs = {\n",
    "        \"question\": question+\"\\nChọn đáp án đúng\",\n",
    "        \"max_retries\": 0,\n",
    "    }\n",
    "\n",
    "    for event in graph.stream(inputs, stream_mode=\"values\"):\n",
    "        states_test[-1].append(event)\n",
    "    i += 1"
   ]
  },
  {
   "cell_type": "code",
   "execution_count": null,
   "metadata": {},
   "outputs": [],
   "source": [
    "messages = []\n",
    "for state in states_test:\n",
    "    messages.append({'question': state[-1]['question'],\n",
    "                     'generation':state[-1]['generation'].content})"
   ]
  },
  {
   "cell_type": "code",
   "execution_count": null,
   "metadata": {},
   "outputs": [],
   "source": [
    "import pandas as pd\n",
    "df = pd.DataFrame(messages)"
   ]
  },
  {
   "cell_type": "code",
   "execution_count": null,
   "metadata": {},
   "outputs": [],
   "source": [
    "df.to_excel(\"FAiQ.xlsx\")"
   ]
  }
 ],
 "metadata": {
  "kernelspec": {
   "display_name": "Python 3",
   "language": "python",
   "name": "python3"
  },
  "language_info": {
   "codemirror_mode": {
    "name": "ipython",
    "version": 3
   },
   "file_extension": ".py",
   "mimetype": "text/x-python",
   "name": "python",
   "nbconvert_exporter": "python",
   "pygments_lexer": "ipython3",
   "version": "3.11.3"
  }
 },
 "nbformat": 4,
 "nbformat_minor": 2
}
